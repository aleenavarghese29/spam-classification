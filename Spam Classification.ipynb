{
 "cells": [
  {
   "cell_type": "code",
   "execution_count": 4,
   "metadata": {},
   "outputs": [
    {
     "name": "stdout",
     "output_type": "stream",
     "text": [
      "        v1                                                 v2 Unnamed: 2  \\\n",
      "0      ham  Go until jurong point, crazy.. Available only ...        NaN   \n",
      "1      ham                      Ok lar... Joking wif u oni...        NaN   \n",
      "2     spam  Free entry in 2 a wkly comp to win FA Cup fina...        NaN   \n",
      "3      ham  U dun say so early hor... U c already then say...        NaN   \n",
      "4      ham  Nah I don't think he goes to usf, he lives aro...        NaN   \n",
      "...    ...                                                ...        ...   \n",
      "5567  spam  This is the 2nd time we have tried 2 contact u...        NaN   \n",
      "5568   ham              Will Ì_ b going to esplanade fr home?        NaN   \n",
      "5569   ham  Pity, * was in mood for that. So...any other s...        NaN   \n",
      "5570   ham  The guy did some bitching but I acted like i'd...        NaN   \n",
      "5571   ham                         Rofl. Its true to its name        NaN   \n",
      "\n",
      "     Unnamed: 3 Unnamed: 4  \n",
      "0           NaN        NaN  \n",
      "1           NaN        NaN  \n",
      "2           NaN        NaN  \n",
      "3           NaN        NaN  \n",
      "4           NaN        NaN  \n",
      "...         ...        ...  \n",
      "5567        NaN        NaN  \n",
      "5568        NaN        NaN  \n",
      "5569        NaN        NaN  \n",
      "5570        NaN        NaN  \n",
      "5571        NaN        NaN  \n",
      "\n",
      "[5572 rows x 5 columns]\n"
     ]
    }
   ],
   "source": [
    "import pandas as pd\n",
    "\n",
    "df=pd.read_csv(\"spam.csv\", encoding='ISO-8859-1')\n",
    "print(df)"
   ]
  },
  {
   "cell_type": "code",
   "execution_count": 5,
   "metadata": {},
   "outputs": [
    {
     "name": "stdout",
     "output_type": "stream",
     "text": [
      "Accuracy: 98.39%\n",
      "Classification Report:\n",
      "              precision    recall  f1-score   support\n",
      "\n",
      "           0       0.99      0.99      0.99       965\n",
      "           1       0.96      0.92      0.94       150\n",
      "\n",
      "    accuracy                           0.98      1115\n",
      "   macro avg       0.97      0.96      0.96      1115\n",
      "weighted avg       0.98      0.98      0.98      1115\n",
      "\n",
      "The message is classified as: Spam\n"
     ]
    }
   ],
   "source": [
    "# Step 1: Import Libraries\n",
    "import pandas as pd\n",
    "from sklearn.feature_extraction.text import CountVectorizer\n",
    "from sklearn.model_selection import train_test_split\n",
    "from sklearn.naive_bayes import MultinomialNB\n",
    "from sklearn.metrics import accuracy_score, classification_report\n",
    "\n",
    "# Step 2: Load the data\n",
    "data = pd.read_csv('spam.csv', encoding='latin-1')  # Handle encoding\n",
    "data = data[['v1', 'v2']]  # Select only necessary columns\n",
    "data.columns = ['label', 'message']  # Rename columns for clarity\n",
    "\n",
    "# Step 3: Data Preprocessing (Clean missing values if any)\n",
    "# Dropping rows with missing values\n",
    "data.dropna(inplace=True)\n",
    "\n",
    "# Step 4: Convert label to binary (1 for spam, 0 for not spam)\n",
    "data['label'] = data['label'].map({'spam': 1, 'ham': 0})\n",
    "\n",
    "# Step 5: Split the data into training and testing sets\n",
    "X_train, X_test, y_train, y_test = train_test_split(data['message'], data['label'], test_size=0.2, random_state=42)\n",
    "\n",
    "# Step 6: Convert the text data into numerical data using CountVectorizer\n",
    "vectorizer = CountVectorizer(stop_words='english')\n",
    "X_train_transformed = vectorizer.fit_transform(X_train)\n",
    "X_test_transformed = vectorizer.transform(X_test)\n",
    "\n",
    "# Step 7: Train the Naive Bayes model\n",
    "model = MultinomialNB()\n",
    "model.fit(X_train_transformed, y_train)\n",
    "\n",
    "# Step 8: Make predictions\n",
    "y_pred = model.predict(X_test_transformed)\n",
    "\n",
    "# Step 9: Evaluate the model\n",
    "accuracy = accuracy_score(y_test, y_pred)\n",
    "print(f\"Accuracy: {accuracy * 100:.2f}%\")\n",
    "print(\"Classification Report:\")\n",
    "print(classification_report(y_test, y_pred))\n",
    "\n",
    "# Optional: Test with a custom message\n",
    "new_message = [\"Congratulations, you've won a free iPhone!\"]\n",
    "new_message_transformed = vectorizer.transform(new_message)\n",
    "prediction = model.predict(new_message_transformed)\n",
    "if prediction[0] == 1:\n",
    "    print(\"The message is classified as: Spam\")\n",
    "else:\n",
    "    print(\"The message is classified as: Not Spam\")\n",
    "\n"
   ]
  },
  {
   "cell_type": "code",
   "execution_count": 6,
   "metadata": {},
   "outputs": [
    {
     "name": "stdout",
     "output_type": "stream",
     "text": [
      "Model and vectorizer saved successfully!\n"
     ]
    }
   ],
   "source": [
    "# Step 5: Save the model and vectorizer using pickle\n",
    "import pickle\n",
    "with open('spam_classifier_model.pkl', 'wb') as model_file:\n",
    "    pickle.dump(model, model_file)\n",
    "\n",
    "with open('vectorizer.pkl', 'wb') as vectorizer_file:\n",
    "    pickle.dump(vectorizer, vectorizer_file)\n",
    "\n",
    "print(\"Model and vectorizer saved successfully!\")"
   ]
  },
  {
   "cell_type": "code",
   "execution_count": 7,
   "metadata": {},
   "outputs": [],
   "source": [
    "# Code to automatically generate the 'app.py' file\n",
    "with open(\"G:\\\\My Projects\\\\Predictive\\\\spam-detector\\\\app.py\", \"w\", encoding=\"utf-8\") as f:\n",
    "    f.write(\"\"\"\n",
    "import streamlit as st\n",
    "import pickle\n",
    "\n",
    "st.title(\"Spam Detector using Naïve Bayes\")\n",
    "st.write(\"Enter a message below to check if it's spam or not.\")\n",
    "\n",
    "# Load the trained model (Make sure to provide the correct path to the model)\n",
    "loaded_model = pickle.load(open("spam_classifier_model.pkl", "rb"))\n",
    "\n",
    "# User input\n",
    "message = st.text_area(\"Enter your message:\")\n",
    "\n",
    "if st.button(\"Check\"):\n",
    "    if message.strip():\n",
    "        # Make prediction\n",
    "        prediction = loaded_model.predict([message])[0]\n",
    "\n",
    "        # Display result\n",
    "        if prediction == 1:\n",
    "            st.error(\"🚨 This message is SPAM!\")\n",
    "        else:\n",
    "            st.success(\"✅ This message is NOT spam.\")\n",
    "    else:\n",
    "        st.warning(\"Please enter a message to check.\")\n",
    "\"\"\")\n"
   ]
  }
 ],
 "metadata": {
  "kernelspec": {
   "display_name": "Python 3",
   "language": "python",
   "name": "python3"
  },
  "language_info": {
   "codemirror_mode": {
    "name": "ipython",
    "version": 3
   },
   "file_extension": ".py",
   "mimetype": "text/x-python",
   "name": "python",
   "nbconvert_exporter": "python",
   "pygments_lexer": "ipython3",
   "version": "3.13.0"
  }
 },
 "nbformat": 4,
 "nbformat_minor": 2
}
